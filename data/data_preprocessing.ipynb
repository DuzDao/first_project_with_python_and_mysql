{
 "cells": [
  {
   "cell_type": "code",
   "execution_count": 2,
   "metadata": {},
   "outputs": [],
   "source": [
    "import pandas as pd"
   ]
  },
  {
   "cell_type": "code",
   "execution_count": 34,
   "metadata": {},
   "outputs": [],
   "source": [
    "df_acc_data = pd.read_csv(r\"D:\\self-study\\DE_roadmap\\projects\\first_de_project\\dataset\\Wealth-AccountData.csv\")\n",
    "df_acc_country = pd.read_csv(r\"D:\\self-study\\DE_roadmap\\projects\\first_de_project\\dataset\\Wealth-AccountsCountry.csv\")\n",
    "df_acc_series = pd.read_csv(r\"D:\\self-study\\DE_roadmap\\projects\\first_de_project\\dataset\\Wealth-AccountSeries.csv\")"
   ]
  },
  {
   "cell_type": "code",
   "execution_count": 26,
   "metadata": {},
   "outputs": [],
   "source": [
    "df_acc_country = df_acc_country.rename({\"Code\": \"country_code\", \"Short Name\": \"short_name\", \"Table Name\": \"table_name\", \"Long Name\": \"long_name\", \"Currency Unit\": \"currency_unit\"}, axis=1)\n",
    "df_acc_country = df_acc_country[[\"country_code\", \"short_name\", \"table_name\", \"long_name\", \"currency_unit\"]]"
   ]
  },
  {
   "cell_type": "code",
   "execution_count": 27,
   "metadata": {},
   "outputs": [],
   "source": [
    "df_acc_data = df_acc_data.rename({\"Country Name\": \"country_name\", \"Country Code\": \"country_code\", \"Series Name\": \"indicator_name\", \"Series Code\": \"indicator_code\", \"1995 [YR1995]\": \"year_1995\", \"2000 [YR2000]\": \"year_2000\", \"2005 [YR2005]\": \"year_2005\", \"2010 [YR2010]\": \"year_2010\", \"2014 [YR2014]\": \"year_2014\"}, axis=1)\n",
    "df_acc_data = df_acc_data[[\"country_name\", \"country_code\", \"indicator_name\", \"indicator_code\", \"year_1995\", \"year_2000\", \"year_2005\", \"year_2010\", \"year_2014\"]]"
   ]
  },
  {
   "cell_type": "code",
   "execution_count": 37,
   "metadata": {},
   "outputs": [],
   "source": [
    "df_acc_series = df_acc_series.rename({\"Code\": \"series_code\", \"Indicator Name\": \"indicator_name\", \"Long definition\": \"long_definition\", \"Topic\": \"topic\"}, axis=1)\n",
    "df_acc_series = df_acc_series[[\"series_code\", \"topic\", \"indicator_name\", \"long_definition\"]]"
   ]
  },
  {
   "cell_type": "code",
   "execution_count": null,
   "metadata": {},
   "outputs": [],
   "source": [
    "df_acc_country.to_csv(r\"D:\\self-study\\DE_roadmap\\projects\\first_de_project\\dataset\\account_country.csv\", index=False)\n",
    "df_acc_data.to_csv(r\"D:\\self-study\\DE_roadmap\\projects\\first_de_project\\dataset\\account_data.csv\", index=False)\n",
    "df_acc_series.to_csv(r\"D:\\self-study\\DE_roadmap\\projects\\first_de_project\\dataset\\account_series.csv\", index=False)\n"
   ]
  }
 ],
 "metadata": {
  "kernelspec": {
   "display_name": "Python 3",
   "language": "python",
   "name": "python3"
  },
  "language_info": {
   "codemirror_mode": {
    "name": "ipython",
    "version": 3
   },
   "file_extension": ".py",
   "mimetype": "text/x-python",
   "name": "python",
   "nbconvert_exporter": "python",
   "pygments_lexer": "ipython3",
   "version": "3.10.9"
  }
 },
 "nbformat": 4,
 "nbformat_minor": 2
}
